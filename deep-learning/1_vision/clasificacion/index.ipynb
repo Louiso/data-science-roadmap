{
 "cells": [
  {
   "cell_type": "markdown",
   "metadata": {},
   "source": [
    "# Crear aplicacion para clasificar gatos y perros"
   ]
  },
  {
   "cell_type": "markdown",
   "metadata": {},
   "source": [
    "- pip3 install git+https://github.com/joshcarty/google-searchconsole\n",
    "- pip3 install pandas"
   ]
  },
  {
   "cell_type": "code",
   "execution_count": 9,
   "metadata": {},
   "outputs": [],
   "source": [
    "import searchconsole\n",
    "import pandas as pd\n",
    "import numpy as np\n",
    "from datetime import datetime\n",
    "from datetime import timedelta\n",
    "import calendar\n",
    "\n",
    "GOOGLE_KEY='223432348189-u55d7o1nn12hidub292sp15nq6ntamc8.apps.googleusercontent.com'\n",
    "GOOGLE_SECRET='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'"
   ]
  },
  {
   "cell_type": "code",
   "execution_count": 17,
   "metadata": {},
   "outputs": [
    {
     "name": "stdout",
     "output_type": "stream",
     "text": [
      "Please visit this URL to authorize this application: https://accounts.google.com/o/oauth2/auth?response_type=code&client_id=223432348189-u55d7o1nn12hidub292sp15nq6ntamc8.apps.googleusercontent.com&redirect_uri=urn%3Aietf%3Awg%3Aoauth%3A2.0%3Aoob&scope=https%3A%2F%2Fwww.googleapis.com%2Fauth%2Fwebmasters.readonly&state=wGVEGlRbAligs9ObO5fhZRUcn8314n&prompt=consent&access_type=offline\n"
     ]
    },
    {
     "ename": "ValueError",
     "evalue": "Please supply either code or authorization_response parameters.",
     "output_type": "error",
     "traceback": [
      "\u001b[0;31m---------------------------------------------------------------------------\u001b[0m",
      "\u001b[0;31mKeyError\u001b[0m                                  Traceback (most recent call last)",
      "\u001b[1;32m/home/luissullca/Escritorio/Luis/IA/roadmap-datascience/deep-learning/1_vision/clasificacion/index.ipynb Cell 4'\u001b[0m in \u001b[0;36m<cell line: 1>\u001b[0;34m()\u001b[0m\n\u001b[1;32m      <a href='vscode-notebook-cell://wsl%2Bubuntu/home/luissullca/Escritorio/Luis/IA/roadmap-datascience/deep-learning/1_vision/clasificacion/index.ipynb#ch0000007vscode-remote?line=0'>1</a>\u001b[0m \u001b[39mtry\u001b[39;00m:\n\u001b[0;32m----> <a href='vscode-notebook-cell://wsl%2Bubuntu/home/luissullca/Escritorio/Luis/IA/roadmap-datascience/deep-learning/1_vision/clasificacion/index.ipynb#ch0000007vscode-remote?line=1'>2</a>\u001b[0m   account \u001b[39m=\u001b[39m searchconsole\u001b[39m.\u001b[39;49mauthenticate(flow\u001b[39m=\u001b[39;49m\u001b[39m\"\u001b[39;49m\u001b[39mconsole\u001b[39;49m\u001b[39m\"\u001b[39;49m, client_config\u001b[39m=\u001b[39;49m\u001b[39m'\u001b[39;49m\u001b[39m./client_secret_223432348189-u55d7o1nn12hidub292sp15nq6ntamc8.apps.googleusercontent.com.json\u001b[39;49m\u001b[39m'\u001b[39;49m, credentials\u001b[39m=\u001b[39;49m\u001b[39m'\u001b[39;49m\u001b[39m./client_secret_223432348189-u55d7o1nn12hidub292sp15nq6ntamc8.apps.googleusercontent.com.json\u001b[39;49m\u001b[39m'\u001b[39;49m)\n\u001b[1;32m      <a href='vscode-notebook-cell://wsl%2Bubuntu/home/luissullca/Escritorio/Luis/IA/roadmap-datascience/deep-learning/1_vision/clasificacion/index.ipynb#ch0000007vscode-remote?line=2'>3</a>\u001b[0m \u001b[39mexcept\u001b[39;00m:\n",
      "File \u001b[0;32m~/.local/lib/python3.8/site-packages/searchconsole/auth.py:86\u001b[0m, in \u001b[0;36mauthenticate\u001b[0;34m(client_config, credentials, serialize, flow)\u001b[0m\n\u001b[1;32m     <a href='file:///home/luissullca/.local/lib/python3.8/site-packages/searchconsole/auth.py?line=82'>83</a>\u001b[0m             credentials \u001b[39m=\u001b[39m json\u001b[39m.\u001b[39mload(f)\n\u001b[1;32m     <a href='file:///home/luissullca/.local/lib/python3.8/site-packages/searchconsole/auth.py?line=84'>85</a>\u001b[0m     credentials \u001b[39m=\u001b[39m Credentials(\n\u001b[0;32m---> <a href='file:///home/luissullca/.local/lib/python3.8/site-packages/searchconsole/auth.py?line=85'>86</a>\u001b[0m         token\u001b[39m=\u001b[39mcredentials[\u001b[39m'\u001b[39;49m\u001b[39mtoken\u001b[39;49m\u001b[39m'\u001b[39;49m],\n\u001b[1;32m     <a href='file:///home/luissullca/.local/lib/python3.8/site-packages/searchconsole/auth.py?line=86'>87</a>\u001b[0m         refresh_token\u001b[39m=\u001b[39mcredentials[\u001b[39m'\u001b[39m\u001b[39mrefresh_token\u001b[39m\u001b[39m'\u001b[39m],\n\u001b[1;32m     <a href='file:///home/luissullca/.local/lib/python3.8/site-packages/searchconsole/auth.py?line=87'>88</a>\u001b[0m         id_token\u001b[39m=\u001b[39mcredentials[\u001b[39m'\u001b[39m\u001b[39mid_token\u001b[39m\u001b[39m'\u001b[39m],\n\u001b[1;32m     <a href='file:///home/luissullca/.local/lib/python3.8/site-packages/searchconsole/auth.py?line=88'>89</a>\u001b[0m         token_uri\u001b[39m=\u001b[39mcredentials[\u001b[39m'\u001b[39m\u001b[39mtoken_uri\u001b[39m\u001b[39m'\u001b[39m],\n\u001b[1;32m     <a href='file:///home/luissullca/.local/lib/python3.8/site-packages/searchconsole/auth.py?line=89'>90</a>\u001b[0m         client_id\u001b[39m=\u001b[39mcredentials[\u001b[39m'\u001b[39m\u001b[39mclient_id\u001b[39m\u001b[39m'\u001b[39m],\n\u001b[1;32m     <a href='file:///home/luissullca/.local/lib/python3.8/site-packages/searchconsole/auth.py?line=90'>91</a>\u001b[0m         client_secret\u001b[39m=\u001b[39mcredentials[\u001b[39m'\u001b[39m\u001b[39mclient_secret\u001b[39m\u001b[39m'\u001b[39m],\n\u001b[1;32m     <a href='file:///home/luissullca/.local/lib/python3.8/site-packages/searchconsole/auth.py?line=91'>92</a>\u001b[0m         scopes\u001b[39m=\u001b[39mcredentials[\u001b[39m'\u001b[39m\u001b[39mscopes\u001b[39m\u001b[39m'\u001b[39m]\n\u001b[1;32m     <a href='file:///home/luissullca/.local/lib/python3.8/site-packages/searchconsole/auth.py?line=92'>93</a>\u001b[0m     )\n\u001b[1;32m     <a href='file:///home/luissullca/.local/lib/python3.8/site-packages/searchconsole/auth.py?line=94'>95</a>\u001b[0m service \u001b[39m=\u001b[39m discovery\u001b[39m.\u001b[39mbuild(\n\u001b[1;32m     <a href='file:///home/luissullca/.local/lib/python3.8/site-packages/searchconsole/auth.py?line=95'>96</a>\u001b[0m     serviceName\u001b[39m=\u001b[39m\u001b[39m'\u001b[39m\u001b[39msearchconsole\u001b[39m\u001b[39m'\u001b[39m,\n\u001b[1;32m     <a href='file:///home/luissullca/.local/lib/python3.8/site-packages/searchconsole/auth.py?line=96'>97</a>\u001b[0m     version\u001b[39m=\u001b[39m\u001b[39m'\u001b[39m\u001b[39mv1\u001b[39m\u001b[39m'\u001b[39m,\n\u001b[1;32m     <a href='file:///home/luissullca/.local/lib/python3.8/site-packages/searchconsole/auth.py?line=97'>98</a>\u001b[0m     credentials\u001b[39m=\u001b[39mcredentials,\n\u001b[1;32m     <a href='file:///home/luissullca/.local/lib/python3.8/site-packages/searchconsole/auth.py?line=98'>99</a>\u001b[0m     cache_discovery\u001b[39m=\u001b[39m\u001b[39mFalse\u001b[39;00m,\n\u001b[1;32m    <a href='file:///home/luissullca/.local/lib/python3.8/site-packages/searchconsole/auth.py?line=99'>100</a>\u001b[0m )\n",
      "\u001b[0;31mKeyError\u001b[0m: 'token'",
      "\nDuring handling of the above exception, another exception occurred:\n",
      "\u001b[0;31mValueError\u001b[0m                                Traceback (most recent call last)",
      "\u001b[1;32m/home/luissullca/Escritorio/Luis/IA/roadmap-datascience/deep-learning/1_vision/clasificacion/index.ipynb Cell 4'\u001b[0m in \u001b[0;36m<cell line: 1>\u001b[0;34m()\u001b[0m\n\u001b[1;32m      <a href='vscode-notebook-cell://wsl%2Bubuntu/home/luissullca/Escritorio/Luis/IA/roadmap-datascience/deep-learning/1_vision/clasificacion/index.ipynb#ch0000007vscode-remote?line=1'>2</a>\u001b[0m   account \u001b[39m=\u001b[39m searchconsole\u001b[39m.\u001b[39mauthenticate(flow\u001b[39m=\u001b[39m\u001b[39m\"\u001b[39m\u001b[39mconsole\u001b[39m\u001b[39m\"\u001b[39m, client_config\u001b[39m=\u001b[39m\u001b[39m'\u001b[39m\u001b[39m./client_secret_223432348189-u55d7o1nn12hidub292sp15nq6ntamc8.apps.googleusercontent.com.json\u001b[39m\u001b[39m'\u001b[39m, credentials\u001b[39m=\u001b[39m\u001b[39m'\u001b[39m\u001b[39m./client_secret_223432348189-u55d7o1nn12hidub292sp15nq6ntamc8.apps.googleusercontent.com.json\u001b[39m\u001b[39m'\u001b[39m)\n\u001b[1;32m      <a href='vscode-notebook-cell://wsl%2Bubuntu/home/luissullca/Escritorio/Luis/IA/roadmap-datascience/deep-learning/1_vision/clasificacion/index.ipynb#ch0000007vscode-remote?line=2'>3</a>\u001b[0m \u001b[39mexcept\u001b[39;00m:\n\u001b[0;32m----> <a href='vscode-notebook-cell://wsl%2Bubuntu/home/luissullca/Escritorio/Luis/IA/roadmap-datascience/deep-learning/1_vision/clasificacion/index.ipynb#ch0000007vscode-remote?line=3'>4</a>\u001b[0m   account \u001b[39m=\u001b[39m searchconsole\u001b[39m.\u001b[39;49mauthenticate(flow\u001b[39m=\u001b[39;49m\u001b[39m\"\u001b[39;49m\u001b[39mconsole\u001b[39;49m\u001b[39m\"\u001b[39;49m, client_config\u001b[39m=\u001b[39;49m\u001b[39m'\u001b[39;49m\u001b[39m./client_secret_223432348189-u55d7o1nn12hidub292sp15nq6ntamc8.apps.googleusercontent.com.json\u001b[39;49m\u001b[39m'\u001b[39;49m, serialize\u001b[39m=\u001b[39;49m\u001b[39m'\u001b[39;49m\u001b[39m./client_secret_223432348189-u55d7o1nn12hidub292sp15nq6ntamc8.apps.googleusercontent.com.json\u001b[39;49m\u001b[39m'\u001b[39;49m)\n",
      "File \u001b[0;32m~/.local/lib/python3.8/site-packages/searchconsole/auth.py:72\u001b[0m, in \u001b[0;36mauthenticate\u001b[0;34m(client_config, credentials, serialize, flow)\u001b[0m\n\u001b[1;32m     <a href='file:///home/luissullca/.local/lib/python3.8/site-packages/searchconsole/auth.py?line=69'>70</a>\u001b[0m     auth_flow\u001b[39m.\u001b[39mrun_local_server()\n\u001b[1;32m     <a href='file:///home/luissullca/.local/lib/python3.8/site-packages/searchconsole/auth.py?line=70'>71</a>\u001b[0m \u001b[39melif\u001b[39;00m flow \u001b[39m==\u001b[39m \u001b[39m\"\u001b[39m\u001b[39mconsole\u001b[39m\u001b[39m\"\u001b[39m:\n\u001b[0;32m---> <a href='file:///home/luissullca/.local/lib/python3.8/site-packages/searchconsole/auth.py?line=71'>72</a>\u001b[0m     auth_flow\u001b[39m.\u001b[39;49mrun_console()\n\u001b[1;32m     <a href='file:///home/luissullca/.local/lib/python3.8/site-packages/searchconsole/auth.py?line=72'>73</a>\u001b[0m \u001b[39melse\u001b[39;00m:\n\u001b[1;32m     <a href='file:///home/luissullca/.local/lib/python3.8/site-packages/searchconsole/auth.py?line=73'>74</a>\u001b[0m     \u001b[39mraise\u001b[39;00m \u001b[39mValueError\u001b[39;00m(\u001b[39m\"\u001b[39m\u001b[39mAuthentication flow \u001b[39m\u001b[39m'\u001b[39m\u001b[39m{}\u001b[39;00m\u001b[39m'\u001b[39m\u001b[39m not supported\u001b[39m\u001b[39m\"\u001b[39m\u001b[39m.\u001b[39mformat(flow))\n",
      "File \u001b[0;32m~/.local/lib/python3.8/site-packages/google_auth_oauthlib/flow.py:439\u001b[0m, in \u001b[0;36mInstalledAppFlow.run_console\u001b[0;34m(self, authorization_prompt_message, authorization_code_message, **kwargs)\u001b[0m\n\u001b[1;32m    <a href='file:///home/luissullca/.local/lib/python3.8/site-packages/google_auth_oauthlib/flow.py?line=434'>435</a>\u001b[0m \u001b[39mprint\u001b[39m(authorization_prompt_message\u001b[39m.\u001b[39mformat(url\u001b[39m=\u001b[39mauth_url))\n\u001b[1;32m    <a href='file:///home/luissullca/.local/lib/python3.8/site-packages/google_auth_oauthlib/flow.py?line=436'>437</a>\u001b[0m code \u001b[39m=\u001b[39m \u001b[39minput\u001b[39m(authorization_code_message)\n\u001b[0;32m--> <a href='file:///home/luissullca/.local/lib/python3.8/site-packages/google_auth_oauthlib/flow.py?line=438'>439</a>\u001b[0m \u001b[39mself\u001b[39;49m\u001b[39m.\u001b[39;49mfetch_token(code\u001b[39m=\u001b[39;49mcode)\n\u001b[1;32m    <a href='file:///home/luissullca/.local/lib/python3.8/site-packages/google_auth_oauthlib/flow.py?line=440'>441</a>\u001b[0m \u001b[39mreturn\u001b[39;00m \u001b[39mself\u001b[39m\u001b[39m.\u001b[39mcredentials\n",
      "File \u001b[0;32m~/.local/lib/python3.8/site-packages/google_auth_oauthlib/flow.py:300\u001b[0m, in \u001b[0;36mFlow.fetch_token\u001b[0;34m(self, **kwargs)\u001b[0m\n\u001b[1;32m    <a href='file:///home/luissullca/.local/lib/python3.8/site-packages/google_auth_oauthlib/flow.py?line=297'>298</a>\u001b[0m kwargs\u001b[39m.\u001b[39msetdefault(\u001b[39m\"\u001b[39m\u001b[39mclient_secret\u001b[39m\u001b[39m\"\u001b[39m, \u001b[39mself\u001b[39m\u001b[39m.\u001b[39mclient_config[\u001b[39m\"\u001b[39m\u001b[39mclient_secret\u001b[39m\u001b[39m\"\u001b[39m])\n\u001b[1;32m    <a href='file:///home/luissullca/.local/lib/python3.8/site-packages/google_auth_oauthlib/flow.py?line=298'>299</a>\u001b[0m kwargs\u001b[39m.\u001b[39msetdefault(\u001b[39m\"\u001b[39m\u001b[39mcode_verifier\u001b[39m\u001b[39m\"\u001b[39m, \u001b[39mself\u001b[39m\u001b[39m.\u001b[39mcode_verifier)\n\u001b[0;32m--> <a href='file:///home/luissullca/.local/lib/python3.8/site-packages/google_auth_oauthlib/flow.py?line=299'>300</a>\u001b[0m \u001b[39mreturn\u001b[39;00m \u001b[39mself\u001b[39;49m\u001b[39m.\u001b[39;49moauth2session\u001b[39m.\u001b[39;49mfetch_token(\u001b[39mself\u001b[39;49m\u001b[39m.\u001b[39;49mclient_config[\u001b[39m\"\u001b[39;49m\u001b[39mtoken_uri\u001b[39;49m\u001b[39m\"\u001b[39;49m], \u001b[39m*\u001b[39;49m\u001b[39m*\u001b[39;49mkwargs)\n",
      "File \u001b[0;32m~/.local/lib/python3.8/site-packages/requests_oauthlib/oauth2_session.py:251\u001b[0m, in \u001b[0;36mOAuth2Session.fetch_token\u001b[0;34m(self, token_url, code, authorization_response, body, auth, username, password, method, force_querystring, timeout, headers, verify, proxies, include_client_id, client_secret, cert, **kwargs)\u001b[0m\n\u001b[1;32m    <a href='file:///home/luissullca/.local/lib/python3.8/site-packages/requests_oauthlib/oauth2_session.py?line=248'>249</a>\u001b[0m     code \u001b[39m=\u001b[39m \u001b[39mself\u001b[39m\u001b[39m.\u001b[39m_client\u001b[39m.\u001b[39mcode\n\u001b[1;32m    <a href='file:///home/luissullca/.local/lib/python3.8/site-packages/requests_oauthlib/oauth2_session.py?line=249'>250</a>\u001b[0m     \u001b[39mif\u001b[39;00m \u001b[39mnot\u001b[39;00m code:\n\u001b[0;32m--> <a href='file:///home/luissullca/.local/lib/python3.8/site-packages/requests_oauthlib/oauth2_session.py?line=250'>251</a>\u001b[0m         \u001b[39mraise\u001b[39;00m \u001b[39mValueError\u001b[39;00m(\n\u001b[1;32m    <a href='file:///home/luissullca/.local/lib/python3.8/site-packages/requests_oauthlib/oauth2_session.py?line=251'>252</a>\u001b[0m             \u001b[39m\"\u001b[39m\u001b[39mPlease supply either code or \u001b[39m\u001b[39m\"\u001b[39m \u001b[39m\"\u001b[39m\u001b[39mauthorization_response parameters.\u001b[39m\u001b[39m\"\u001b[39m\n\u001b[1;32m    <a href='file:///home/luissullca/.local/lib/python3.8/site-packages/requests_oauthlib/oauth2_session.py?line=252'>253</a>\u001b[0m         )\n\u001b[1;32m    <a href='file:///home/luissullca/.local/lib/python3.8/site-packages/requests_oauthlib/oauth2_session.py?line=254'>255</a>\u001b[0m \u001b[39m# Earlier versions of this library build an HTTPBasicAuth header out of\u001b[39;00m\n\u001b[1;32m    <a href='file:///home/luissullca/.local/lib/python3.8/site-packages/requests_oauthlib/oauth2_session.py?line=255'>256</a>\u001b[0m \u001b[39m# `username` and `password`. The RFC states, however these attributes\u001b[39;00m\n\u001b[1;32m    <a href='file:///home/luissullca/.local/lib/python3.8/site-packages/requests_oauthlib/oauth2_session.py?line=256'>257</a>\u001b[0m \u001b[39m# must be in the request body and not the header.\u001b[39;00m\n\u001b[0;32m   (...)\u001b[0m\n\u001b[1;32m    <a href='file:///home/luissullca/.local/lib/python3.8/site-packages/requests_oauthlib/oauth2_session.py?line=263'>264</a>\u001b[0m \u001b[39m# 4.3.2 - Resource Owner Password Credentials Grant\u001b[39;00m\n\u001b[1;32m    <a href='file:///home/luissullca/.local/lib/python3.8/site-packages/requests_oauthlib/oauth2_session.py?line=264'>265</a>\u001b[0m \u001b[39m#         https://tools.ietf.org/html/rfc6749#section-4.3.2\u001b[39;00m\n\u001b[1;32m    <a href='file:///home/luissullca/.local/lib/python3.8/site-packages/requests_oauthlib/oauth2_session.py?line=266'>267</a>\u001b[0m \u001b[39mif\u001b[39;00m \u001b[39misinstance\u001b[39m(\u001b[39mself\u001b[39m\u001b[39m.\u001b[39m_client, LegacyApplicationClient):\n",
      "\u001b[0;31mValueError\u001b[0m: Please supply either code or authorization_response parameters."
     ]
    }
   ],
   "source": [
    "try:\n",
    "  account = searchconsole.authenticate(flow=\"console\", client_config='./client_secret_223432348189-u55d7o1nn12hidub292sp15nq6ntamc8.apps.googleusercontent.com.json', credentials='./client_secret_223432348189-u55d7o1nn12hidub292sp15nq6ntamc8.apps.googleusercontent.com.json')\n",
    "except:\n",
    "  account = searchconsole.authenticate(flow=\"console\", client_config='./client_secret_223432348189-u55d7o1nn12hidub292sp15nq6ntamc8.apps.googleusercontent.com.json', serialize='./client_secret_223432348189-u55d7o1nn12hidub292sp15nq6ntamc8.apps.googleusercontent.com.json')"
   ]
  }
 ],
 "metadata": {
  "kernelspec": {
   "display_name": "Python 3.8.10 64-bit",
   "language": "python",
   "name": "python3"
  },
  "language_info": {
   "codemirror_mode": {
    "name": "ipython",
    "version": 3
   },
   "file_extension": ".py",
   "mimetype": "text/x-python",
   "name": "python",
   "nbconvert_exporter": "python",
   "pygments_lexer": "ipython3",
   "version": "3.8.10"
  },
  "orig_nbformat": 4,
  "vscode": {
   "interpreter": {
    "hash": "916dbcbb3f70747c44a77c7bcd40155683ae19c65e1c03b4aa3499c5328201f1"
   }
  }
 },
 "nbformat": 4,
 "nbformat_minor": 2
}
