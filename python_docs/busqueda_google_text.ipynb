{
 "cells": [
  {
   "cell_type": "markdown",
   "metadata": {},
   "source": [
    "# Crear aplicacion para clasificar gatos y perros"
   ]
  },
  {
   "cell_type": "markdown",
   "metadata": {},
   "source": [
    "- pip3 install git+https://github.com/joshcarty/google-searchconsole\n",
    "- pip3 install pandas"
   ]
  },
  {
   "cell_type": "code",
   "execution_count": 4,
   "metadata": {},
   "outputs": [
    {
     "name": "stdout",
     "output_type": "stream",
     "text": [
      "Collecting googlesearch-python\n",
      "  Using cached googlesearch_python-1.1.0-py3-none-any.whl (3.6 kB)\n",
      "Collecting beautifulsoup4==4.9.3\n",
      "  Using cached beautifulsoup4-4.9.3-py3-none-any.whl (115 kB)\n",
      "Collecting requests==2.25.1\n",
      "  Using cached requests-2.25.1-py2.py3-none-any.whl (61 kB)\n",
      "Collecting soupsieve>1.2; python_version >= \"3.0\"\n",
      "  Using cached soupsieve-2.3.2.post1-py3-none-any.whl (37 kB)\n",
      "Requirement already satisfied: certifi>=2017.4.17 in /usr/lib/python3/dist-packages (from requests==2.25.1->googlesearch-python) (2019.11.28)\n",
      "Requirement already satisfied: urllib3<1.27,>=1.21.1 in /usr/lib/python3/dist-packages (from requests==2.25.1->googlesearch-python) (1.25.8)\n",
      "Requirement already satisfied: idna<3,>=2.5 in /usr/lib/python3/dist-packages (from requests==2.25.1->googlesearch-python) (2.8)\n",
      "Requirement already satisfied: chardet<5,>=3.0.2 in /usr/lib/python3/dist-packages (from requests==2.25.1->googlesearch-python) (3.0.4)\n",
      "Installing collected packages: soupsieve, beautifulsoup4, requests, googlesearch-python\n",
      "Successfully installed beautifulsoup4-4.9.3 googlesearch-python-1.1.0 requests-2.25.1 soupsieve-2.3.2.post1\n"
     ]
    }
   ],
   "source": [
    "!pip3 install googlesearch-python"
   ]
  },
  {
   "cell_type": "code",
   "execution_count": 7,
   "metadata": {},
   "outputs": [
    {
     "name": "stdout",
     "output_type": "stream",
     "text": [
      "https://www.djangoproject.com/\n",
      "https://www.djangoproject.com/\n",
      "https://developer.mozilla.org/en-US/docs/Learn/Server-side/Django/Introduction\n",
      "https://github.com/django/django\n",
      "https://en.wikipedia.org/wiki/Django_(web_framework)\n",
      "https://www.django-rest-framework.org/\n",
      "https://www.w3schools.com/django/\n",
      "https://tutorial.djangogirls.org/en/django/\n",
      "https://www.django-rest-framework.org/\n",
      "https://www.w3schools.com/django/\n",
      "https://tutorial.djangogirls.org/en/django/\n",
      "https://realpython.com/tutorials/django/\n"
     ]
    }
   ],
   "source": [
    "from googlesearch import search\n",
    "\n",
    "query = \"django\"\n",
    "\n",
    "for i in search(query):\n",
    "  print(i)"
   ]
  }
 ],
 "metadata": {
  "kernelspec": {
   "display_name": "Python 3.8.10 64-bit",
   "language": "python",
   "name": "python3"
  },
  "language_info": {
   "codemirror_mode": {
    "name": "ipython",
    "version": 3
   },
   "file_extension": ".py",
   "mimetype": "text/x-python",
   "name": "python",
   "nbconvert_exporter": "python",
   "pygments_lexer": "ipython3",
   "version": "3.8.10"
  },
  "orig_nbformat": 4,
  "vscode": {
   "interpreter": {
    "hash": "916dbcbb3f70747c44a77c7bcd40155683ae19c65e1c03b4aa3499c5328201f1"
   }
  }
 },
 "nbformat": 4,
 "nbformat_minor": 2
}
